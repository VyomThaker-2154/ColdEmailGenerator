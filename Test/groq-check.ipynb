{
 "cells": [
  {
   "cell_type": "code",
   "execution_count": 6,
   "id": "4079a5b5-5e09-4646-9336-0af666390c46",
   "metadata": {},
   "outputs": [
    {
     "name": "stdout",
     "output_type": "stream",
     "text": [
      "The first person to land on the moon was Neil Armstrong, an American astronaut and the mission commander of the Apollo 11 mission. He stepped out of the lunar module Eagle and onto the moon's surface on July 20, 1969.\n",
      "\n",
      "Here's a detailed account of the historic event:\n",
      "\n",
      "**The Apollo 11 Mission**\n",
      "\n",
      "The Apollo 11 mission was launched on July 16, 1969, from Kennedy Space Center in Florida. The spacecraft was crewed by three astronauts: Neil Armstrong, Edwin \"Buzz\" Aldrin, and Michael Collins. The mission's primary objective was to land two astronauts on the moon's surface and return them safely to Earth.\n",
      "\n",
      "**The Lunar Module Descent**\n",
      "\n",
      "After entering into lunar orbit, the lunar module Eagle, piloted by Armstrong, separated from the command module Columbia, which remained in orbit around the moon. The Eagle descended to the moon's surface, and at 20:17 UTC on July 20, 1969, it landed on the moon's surface in the Sea of Tranquility.\n",
      "\n",
      "**The First Steps**\n",
      "\n",
      "At 02:56 UTC on July 21, 1969, Armstrong made history by becoming the first person to set foot on the moon. He stepped out of the lunar module's hatch and onto the moon's surface, famously declaring, \"That's one small step for man, one giant leap for mankind.\" Armstrong's first steps on the moon were broadcast live around the world, and an estimated 600 million people watched the event.\n",
      "\n",
      "**The Moonwalk**\n",
      "\n",
      "Armstrong spent about two and a half hours on the moon's surface, collecting samples and conducting experiments. He was joined by Aldrin, who became the second person to walk on the moon. The two astronauts planted the United States flag, collected moon rocks and soil, and deployed several scientific instruments.\n",
      "\n",
      "**Return to Earth**\n",
      "\n",
      "After completing their moonwalk, Armstrong and Aldrin returned to the lunar module and lifted off from the moon at 23:54 UTC on July 21, 1969. The Eagle successfully rendezvoused with the command module Columbia in lunar orbit, and the astronauts transferred back to the command module. The spacecraft successfully splashed down in the Pacific Ocean on July 24, 1969, marking the end of the historic Apollo 11 mission.\n",
      "\n",
      "Neil Armstrong's historic moonwalk marked a major milestone in space exploration and paved the way for future human spaceflight missions.\n"
     ]
    }
   ],
   "source": [
    "from langchain_groq import ChatGroq\n",
    "\n",
    "llm = ChatGroq(\n",
    "    temperature=0, \n",
    "    groq_api_key='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', \n",
    "    model_name=\"llama-3.1-70b-versatile\"\n",
    ")\n",
    "\n",
    "response = llm.invoke(\"The first person to land on moon was in detail.....\")\n",
    "print(response.content)"
   ]
  },
  {
   "cell_type": "code",
   "execution_count": null,
   "id": "734fb116-c1d2-4062-bd14-777b4d854ec2",
   "metadata": {},
   "outputs": [],
   "source": []
  }
 ],
 "metadata": {
  "kernelspec": {
   "display_name": "Python 3 (ipykernel)",
   "language": "python",
   "name": "python3"
  },
  "language_info": {
   "codemirror_mode": {
    "name": "ipython",
    "version": 3
   },
   "file_extension": ".py",
   "mimetype": "text/x-python",
   "name": "python",
   "nbconvert_exporter": "python",
   "pygments_lexer": "ipython3",
   "version": "3.12.7"
  }
 },
 "nbformat": 4,
 "nbformat_minor": 5
}
